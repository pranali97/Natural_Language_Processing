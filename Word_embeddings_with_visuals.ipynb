{
 "cells": [
  {
   "cell_type": "code",
   "execution_count": 54,
   "id": "64424a03",
   "metadata": {},
   "outputs": [],
   "source": [
    "import tensorflow as tf\n",
    "from tensorflow.keras.preprocessing.text import one_hot"
   ]
  },
  {
   "cell_type": "code",
   "execution_count": 55,
   "id": "6b7d8282",
   "metadata": {},
   "outputs": [],
   "source": [
    "sent = ['the glass of milk',\n",
    "     'the glass of juice',\n",
    "     'the cup of tea',\n",
    "    'I am a good boy',\n",
    "     'I am a good developer',\n",
    "     'understand the meaning of words',\n",
    "     'your videos are good',\n",
    "    'This is a large sentence with many words contained within it without extra efforts']"
   ]
  },
  {
   "cell_type": "code",
   "execution_count": 56,
   "id": "f5ede00c",
   "metadata": {},
   "outputs": [
    {
     "data": {
      "text/plain": [
       "['the glass of milk',\n",
       " 'the glass of juice',\n",
       " 'the cup of tea',\n",
       " 'I am a good boy',\n",
       " 'I am a good developer',\n",
       " 'understand the meaning of words',\n",
       " 'your videos are good',\n",
       " 'This is a large sentence with many words contained within it without extra efforts']"
      ]
     },
     "execution_count": 56,
     "metadata": {},
     "output_type": "execute_result"
    }
   ],
   "source": [
    "sent"
   ]
  },
  {
   "cell_type": "code",
   "execution_count": 57,
   "id": "1ce45b69",
   "metadata": {},
   "outputs": [
    {
     "name": "stdout",
     "output_type": "stream",
     "text": [
      "{'words', 'without', 'videos', 'your', 'i', 'large', 'a', 'extra', 'developer', 'milk', 'is', 'with', 'meaning', 'the', 'of', 'cup', 'contained', 'efforts', 'are', 'sentence', 'glass', 'many', 'it', 'this', 'juice', 'understand', 'good', 'boy', 'tea', 'am', 'within'}\n"
     ]
    }
   ],
   "source": [
    "all_words = []\n",
    "for line in sent:\n",
    "    all_words.extend(line.lower().split())\n",
    "unique_words = set(all_words)\n",
    "print(unique_words)    "
   ]
  },
  {
   "cell_type": "code",
   "execution_count": 58,
   "id": "d6ffb3de",
   "metadata": {},
   "outputs": [],
   "source": [
    "voc_size = 200"
   ]
  },
  {
   "cell_type": "markdown",
   "id": "4a362152",
   "metadata": {},
   "source": [
    "# one hot representation"
   ]
  },
  {
   "cell_type": "code",
   "execution_count": 17,
   "id": "3c9d7c3f",
   "metadata": {},
   "outputs": [
    {
     "name": "stdout",
     "output_type": "stream",
     "text": [
      "[[88, 142, 84, 182], [88, 142, 84, 119], [88, 22, 84, 188], [37, 52, 38, 191, 154], [37, 52, 38, 191, 96], [48, 88, 149, 84, 3], [150, 92, 52, 191], [79, 102, 38, 193, 153, 27, 159, 3, 149, 198, 139, 72, 63, 42]]\n"
     ]
    }
   ],
   "source": [
    "tf.random.set_seed(7)\n",
    "one_hot_repr = [one_hot(line,voc_size) for line in sent]\n",
    "print(one_hot_repr)"
   ]
  },
  {
   "cell_type": "markdown",
   "id": "a45bcf33",
   "metadata": {},
   "source": [
    "# Word Embedding Representation"
   ]
  },
  {
   "cell_type": "code",
   "execution_count": 18,
   "id": "41666637",
   "metadata": {},
   "outputs": [],
   "source": [
    "from tensorflow.keras.layers import Embedding\n",
    "from tensorflow.keras.preprocessing.sequence import pad_sequences\n",
    "from tensorflow.keras.models import Sequential"
   ]
  },
  {
   "cell_type": "code",
   "execution_count": 19,
   "id": "888e37be",
   "metadata": {},
   "outputs": [],
   "source": [
    "import numpy as np"
   ]
  },
  {
   "cell_type": "code",
   "execution_count": 21,
   "id": "f35009ae",
   "metadata": {},
   "outputs": [
    {
     "name": "stdout",
     "output_type": "stream",
     "text": [
      "[[  0   0   0   0  88 142  84 182]\n",
      " [  0   0   0   0  88 142  84 119]\n",
      " [  0   0   0   0  88  22  84 188]\n",
      " [  0   0   0  37  52  38 191 154]\n",
      " [  0   0   0  37  52  38 191  96]\n",
      " [  0   0   0  48  88 149  84   3]\n",
      " [  0   0   0   0 150  92  52 191]\n",
      " [159   3 149 198 139  72  63  42]]\n"
     ]
    }
   ],
   "source": [
    "sent_length = 8\n",
    "embedded_docs = pad_sequences(one_hot_repr,padding = 'pre',maxlen=sent_length)\n",
    "print(embedded_docs)"
   ]
  },
  {
   "cell_type": "code",
   "execution_count": 22,
   "id": "433863de",
   "metadata": {},
   "outputs": [],
   "source": [
    "dim=2\n"
   ]
  },
  {
   "cell_type": "code",
   "execution_count": 23,
   "id": "636d2b7b",
   "metadata": {},
   "outputs": [],
   "source": [
    "model = Sequential()\n",
    "model.add(Embedding(voc_size,dim,input_length = len(embedded_docs[0])))\n",
    "model.compile('adam','mse')"
   ]
  },
  {
   "cell_type": "code",
   "execution_count": 24,
   "id": "6881c247",
   "metadata": {},
   "outputs": [
    {
     "name": "stdout",
     "output_type": "stream",
     "text": [
      "Model: \"sequential\"\n",
      "_________________________________________________________________\n",
      "Layer (type)                 Output Shape              Param #   \n",
      "=================================================================\n",
      "embedding (Embedding)        (None, 8, 2)              400       \n",
      "=================================================================\n",
      "Total params: 400\n",
      "Trainable params: 400\n",
      "Non-trainable params: 0\n",
      "_________________________________________________________________\n"
     ]
    }
   ],
   "source": [
    "model.summary()"
   ]
  },
  {
   "cell_type": "code",
   "execution_count": 25,
   "id": "5bba1db3",
   "metadata": {},
   "outputs": [
    {
     "name": "stdout",
     "output_type": "stream",
     "text": [
      "[[[ 0.03344538 -0.02666334]\n",
      "  [ 0.03344538 -0.02666334]\n",
      "  [ 0.03344538 -0.02666334]\n",
      "  [ 0.03344538 -0.02666334]\n",
      "  [ 0.04695344 -0.01071633]\n",
      "  [ 0.03865533 -0.03163431]\n",
      "  [ 0.01448913  0.0473124 ]\n",
      "  [ 0.03458614 -0.00264077]]\n",
      "\n",
      " [[ 0.03344538 -0.02666334]\n",
      "  [ 0.03344538 -0.02666334]\n",
      "  [ 0.03344538 -0.02666334]\n",
      "  [ 0.03344538 -0.02666334]\n",
      "  [ 0.04695344 -0.01071633]\n",
      "  [ 0.03865533 -0.03163431]\n",
      "  [ 0.01448913  0.0473124 ]\n",
      "  [-0.04006144  0.00516013]]\n",
      "\n",
      " [[ 0.03344538 -0.02666334]\n",
      "  [ 0.03344538 -0.02666334]\n",
      "  [ 0.03344538 -0.02666334]\n",
      "  [ 0.03344538 -0.02666334]\n",
      "  [ 0.04695344 -0.01071633]\n",
      "  [ 0.01102561 -0.03453939]\n",
      "  [ 0.01448913  0.0473124 ]\n",
      "  [-0.00386601 -0.03958908]]\n",
      "\n",
      " [[ 0.03344538 -0.02666334]\n",
      "  [ 0.03344538 -0.02666334]\n",
      "  [ 0.03344538 -0.02666334]\n",
      "  [ 0.02909621 -0.02622317]\n",
      "  [-0.0064308  -0.01034187]\n",
      "  [-0.04632637 -0.0220066 ]\n",
      "  [ 0.01658423 -0.04800677]\n",
      "  [-0.00624676  0.00788671]]\n",
      "\n",
      " [[ 0.03344538 -0.02666334]\n",
      "  [ 0.03344538 -0.02666334]\n",
      "  [ 0.03344538 -0.02666334]\n",
      "  [ 0.02909621 -0.02622317]\n",
      "  [-0.0064308  -0.01034187]\n",
      "  [-0.04632637 -0.0220066 ]\n",
      "  [ 0.01658423 -0.04800677]\n",
      "  [ 0.01563549 -0.00404416]]\n",
      "\n",
      " [[ 0.03344538 -0.02666334]\n",
      "  [ 0.03344538 -0.02666334]\n",
      "  [ 0.03344538 -0.02666334]\n",
      "  [-0.04790845  0.03706347]\n",
      "  [ 0.04695344 -0.01071633]\n",
      "  [ 0.04184425 -0.03084809]\n",
      "  [ 0.01448913  0.0473124 ]\n",
      "  [-0.00143952  0.04596517]]\n",
      "\n",
      " [[ 0.03344538 -0.02666334]\n",
      "  [ 0.03344538 -0.02666334]\n",
      "  [ 0.03344538 -0.02666334]\n",
      "  [ 0.03344538 -0.02666334]\n",
      "  [-0.03833035  0.04186905]\n",
      "  [ 0.04258651 -0.0269435 ]\n",
      "  [-0.0064308  -0.01034187]\n",
      "  [ 0.01658423 -0.04800677]]\n",
      "\n",
      " [[-0.01794694 -0.00968831]\n",
      "  [-0.00143952  0.04596517]\n",
      "  [ 0.04184425 -0.03084809]\n",
      "  [-0.03684539  0.02934903]\n",
      "  [ 0.00169367  0.01016412]\n",
      "  [-0.01102964  0.00299899]\n",
      "  [ 0.03296009  0.03628631]\n",
      "  [-0.00692151 -0.0105061 ]]]\n"
     ]
    }
   ],
   "source": [
    "print(model.predict(embedded_docs))"
   ]
  },
  {
   "cell_type": "code",
   "execution_count": 26,
   "id": "c6e0258c",
   "metadata": {},
   "outputs": [
    {
     "data": {
      "text/plain": [
       "array([  0,   0,   0,   0,  88, 142,  84, 182])"
      ]
     },
     "execution_count": 26,
     "metadata": {},
     "output_type": "execute_result"
    }
   ],
   "source": [
    "embedded_docs[0]"
   ]
  },
  {
   "cell_type": "code",
   "execution_count": 34,
   "id": "7fd72a22",
   "metadata": {},
   "outputs": [],
   "source": [
    "weights = model.get_weights()[0]"
   ]
  },
  {
   "cell_type": "code",
   "execution_count": 35,
   "id": "a64902d0",
   "metadata": {},
   "outputs": [
    {
     "data": {
      "text/plain": [
       "200"
      ]
     },
     "execution_count": 35,
     "metadata": {},
     "output_type": "execute_result"
    }
   ],
   "source": [
    "len(weights)"
   ]
  },
  {
   "cell_type": "code",
   "execution_count": 36,
   "id": "7bb30c41",
   "metadata": {},
   "outputs": [
    {
     "data": {
      "text/plain": [
       "array([[ 0.03344538, -0.02666334],\n",
       "       [ 0.03796519, -0.04533508],\n",
       "       [ 0.03034968,  0.04420098],\n",
       "       [-0.00143952,  0.04596517],\n",
       "       [ 0.01588157, -0.03873085],\n",
       "       [-0.00700765,  0.01038801],\n",
       "       [-0.04060618, -0.04176734],\n",
       "       [ 0.03750939,  0.04595978],\n",
       "       [-0.02551267, -0.00301931],\n",
       "       [ 0.02515631,  0.03360501],\n",
       "       [ 0.03556993, -0.01981859],\n",
       "       [ 0.03269407, -0.00060993],\n",
       "       [ 0.01365357, -0.02075658],\n",
       "       [ 0.04494889,  0.00301058],\n",
       "       [-0.03164674,  0.00837336],\n",
       "       [ 0.03967536,  0.00347773],\n",
       "       [-0.02016296, -0.04226519],\n",
       "       [-0.03233677, -0.01555164],\n",
       "       [-0.00770676,  0.01837962],\n",
       "       [-0.00112754,  0.00376346],\n",
       "       [ 0.04162434, -0.01652505],\n",
       "       [-0.04328135,  0.03402582],\n",
       "       [ 0.01102561, -0.03453939],\n",
       "       [-0.02675917,  0.02687037],\n",
       "       [ 0.00492232,  0.00414323],\n",
       "       [-0.0353582 ,  0.01978463],\n",
       "       [-0.03572295, -0.0168393 ],\n",
       "       [ 0.04705286, -0.03873055],\n",
       "       [-0.04769203,  0.04488883],\n",
       "       [ 0.00716021, -0.01151769],\n",
       "       [-0.03596656,  0.02528724],\n",
       "       [ 0.0380053 , -0.0229943 ],\n",
       "       [ 0.03379676,  0.04621119],\n",
       "       [ 0.01013704,  0.01764875],\n",
       "       [-0.01495261, -0.0202095 ],\n",
       "       [ 0.01835621,  0.04556508],\n",
       "       [ 0.03682437, -0.00763092],\n",
       "       [ 0.02909621, -0.02622317],\n",
       "       [-0.04632637, -0.0220066 ],\n",
       "       [-0.03980405, -0.03837513],\n",
       "       [ 0.00137176,  0.01290539],\n",
       "       [ 0.04104279, -0.00017667],\n",
       "       [-0.00692151, -0.0105061 ],\n",
       "       [ 0.03084935,  0.01176565],\n",
       "       [ 0.0262637 ,  0.04915372],\n",
       "       [-0.00872201,  0.04063142],\n",
       "       [ 0.0016353 ,  0.01745577],\n",
       "       [ 0.01705779,  0.04871316],\n",
       "       [-0.04790845,  0.03706347],\n",
       "       [-0.0359485 , -0.03234348],\n",
       "       [-0.02115854,  0.01366223],\n",
       "       [ 0.0145126 ,  0.04882052],\n",
       "       [-0.0064308 , -0.01034187],\n",
       "       [-0.0490428 , -0.0152512 ],\n",
       "       [-0.00614461, -0.00521321],\n",
       "       [ 0.02346196,  0.00481983],\n",
       "       [ 0.03967592, -0.03377549],\n",
       "       [-0.00999792,  0.02532938],\n",
       "       [ 0.04394103, -0.01261208],\n",
       "       [ 0.01762534, -0.00853879],\n",
       "       [ 0.00353429,  0.00759381],\n",
       "       [ 0.01779472, -0.03702813],\n",
       "       [-0.00513741, -0.00269872],\n",
       "       [ 0.03296009,  0.03628631],\n",
       "       [-0.0401521 ,  0.00921041],\n",
       "       [ 0.00518771,  0.04395993],\n",
       "       [-0.03414785, -0.04587382],\n",
       "       [ 0.01368452,  0.04543874],\n",
       "       [ 0.00680264, -0.02568008],\n",
       "       [ 0.02158267,  0.02966077],\n",
       "       [-0.04669547, -0.04428148],\n",
       "       [ 0.01180308,  0.00335119],\n",
       "       [-0.01102964,  0.00299899],\n",
       "       [ 0.03816689, -0.02173824],\n",
       "       [-0.00836935, -0.02965839],\n",
       "       [ 0.02977301,  0.02892077],\n",
       "       [ 0.00339638,  0.02595634],\n",
       "       [-0.03658139,  0.0014819 ],\n",
       "       [ 0.0082333 ,  0.02360865],\n",
       "       [ 0.00019975, -0.04120821],\n",
       "       [-0.0421177 , -0.02306584],\n",
       "       [ 0.0290466 , -0.00937925],\n",
       "       [-0.04104801,  0.04133527],\n",
       "       [ 0.00755403, -0.01759964],\n",
       "       [ 0.01448913,  0.0473124 ],\n",
       "       [-0.02614017, -0.01997938],\n",
       "       [-0.00152929,  0.01971662],\n",
       "       [ 0.02053386,  0.02757198],\n",
       "       [ 0.04695344, -0.01071633],\n",
       "       [ 0.0327079 ,  0.04893423],\n",
       "       [ 0.02370978,  0.0172968 ],\n",
       "       [ 0.0463783 , -0.04734487],\n",
       "       [ 0.04258651, -0.0269435 ],\n",
       "       [-0.03602229, -0.01984628],\n",
       "       [ 0.04718261, -0.03365511],\n",
       "       [-0.0196317 , -0.00592034],\n",
       "       [ 0.01563549, -0.00404416],\n",
       "       [ 0.04620254, -0.01307712],\n",
       "       [-0.02008818,  0.03324835],\n",
       "       [ 0.02162275,  0.02025403],\n",
       "       [ 0.00449609,  0.02656624],\n",
       "       [ 0.02625901,  0.04453791],\n",
       "       [-0.02728803, -0.00028648],\n",
       "       [ 0.0229069 ,  0.04697162],\n",
       "       [-0.00687295,  0.02400055],\n",
       "       [-0.03148018, -0.00511182],\n",
       "       [-0.01942214,  0.03768823],\n",
       "       [-0.02563575, -0.00154244],\n",
       "       [-0.00150112, -0.03096414],\n",
       "       [-0.03719344,  0.03567639],\n",
       "       [ 0.04861261, -0.04315715],\n",
       "       [-0.0459504 ,  0.00637264],\n",
       "       [ 0.01330998, -0.04425951],\n",
       "       [ 0.01168461,  0.04341301],\n",
       "       [-0.04832694, -0.01550305],\n",
       "       [-0.00778527, -0.01880533],\n",
       "       [ 0.01568197, -0.04876225],\n",
       "       [-0.03891472, -0.00433791],\n",
       "       [-0.0233845 ,  0.02934637],\n",
       "       [-0.04006144,  0.00516013],\n",
       "       [ 0.03468804, -0.03119097],\n",
       "       [ 0.01334498,  0.03196775],\n",
       "       [ 0.00610264,  0.02952212],\n",
       "       [ 0.01256097,  0.02218414],\n",
       "       [ 0.01911264,  0.03597511],\n",
       "       [ 0.04572345, -0.02707583],\n",
       "       [-0.01579785,  0.03279382],\n",
       "       [-0.0434236 , -0.02475752],\n",
       "       [-0.03795065,  0.01667806],\n",
       "       [ 0.04550154, -0.02326007],\n",
       "       [-0.0139313 , -0.03711274],\n",
       "       [ 0.01710993,  0.02238575],\n",
       "       [ 0.02943874, -0.01277752],\n",
       "       [ 0.02473665,  0.00471809],\n",
       "       [-0.01031657, -0.00359046],\n",
       "       [-0.02365232,  0.00592775],\n",
       "       [ 0.01963735,  0.03267373],\n",
       "       [ 0.03922638,  0.0322008 ],\n",
       "       [ 0.0259536 , -0.04414157],\n",
       "       [ 0.00169367,  0.01016412],\n",
       "       [ 0.04703938, -0.03388784],\n",
       "       [-0.03310701,  0.04959216],\n",
       "       [ 0.03865533, -0.03163431],\n",
       "       [-0.00731094,  0.03456659],\n",
       "       [-0.03621519,  0.00074433],\n",
       "       [-0.0104005 , -0.03051922],\n",
       "       [ 0.03868589, -0.02766587],\n",
       "       [ 0.03199447,  0.0057472 ],\n",
       "       [ 0.01509427, -0.04389153],\n",
       "       [ 0.04184425, -0.03084809],\n",
       "       [-0.03833035,  0.04186905],\n",
       "       [ 0.04492157,  0.02338045],\n",
       "       [-0.01762833, -0.04416608],\n",
       "       [-0.00887177, -0.0466524 ],\n",
       "       [-0.00624676,  0.00788671],\n",
       "       [-0.02394415, -0.03490371],\n",
       "       [ 0.0054323 , -0.02201091],\n",
       "       [-0.00566808, -0.03680034],\n",
       "       [-0.02413112,  0.00720228],\n",
       "       [-0.01794694, -0.00968831],\n",
       "       [-0.04014784, -0.04824834],\n",
       "       [ 0.00161247, -0.00307546],\n",
       "       [-0.01930786,  0.01496348],\n",
       "       [-0.00463564, -0.00313997],\n",
       "       [-0.03574527,  0.01945284],\n",
       "       [-0.01319431,  0.00199157],\n",
       "       [ 0.00578267, -0.02141619],\n",
       "       [-0.02112107,  0.01360062],\n",
       "       [-0.00143974, -0.02544106],\n",
       "       [ 0.01773175,  0.01626929],\n",
       "       [ 0.00511301, -0.00734928],\n",
       "       [ 0.02362496, -0.00091435],\n",
       "       [ 0.03058014, -0.03133794],\n",
       "       [ 0.04426983,  0.00876235],\n",
       "       [ 0.0027954 ,  0.03204706],\n",
       "       [ 0.01587603, -0.04692019],\n",
       "       [-0.0356282 , -0.00927901],\n",
       "       [-0.02697495,  0.00599688],\n",
       "       [-0.00967925,  0.01248512],\n",
       "       [ 0.01560045,  0.01954431],\n",
       "       [-0.039379  ,  0.04703281],\n",
       "       [-0.00638472,  0.04787638],\n",
       "       [ 0.03458614, -0.00264077],\n",
       "       [-0.01790562,  0.00810961],\n",
       "       [-0.02347391, -0.01872939],\n",
       "       [-0.0180607 , -0.02725052],\n",
       "       [ 0.02665837,  0.0105795 ],\n",
       "       [-0.03564944,  0.00802516],\n",
       "       [-0.00386601, -0.03958908],\n",
       "       [ 0.02342058, -0.00172629],\n",
       "       [ 0.00014007,  0.00621478],\n",
       "       [ 0.01658423, -0.04800677],\n",
       "       [-0.01808792,  0.00778493],\n",
       "       [-0.04441987,  0.0310712 ],\n",
       "       [-0.00123175,  0.00093427],\n",
       "       [ 0.02763664, -0.01999326],\n",
       "       [-0.03332704, -0.02775649],\n",
       "       [-0.0194297 , -0.04819283],\n",
       "       [-0.03684539,  0.02934903],\n",
       "       [-0.04914391,  0.03013103]], dtype=float32)"
      ]
     },
     "execution_count": 36,
     "metadata": {},
     "output_type": "execute_result"
    }
   ],
   "source": [
    "weights"
   ]
  },
  {
   "cell_type": "code",
   "execution_count": 40,
   "id": "a815652e",
   "metadata": {},
   "outputs": [
    {
     "name": "stdout",
     "output_type": "stream",
     "text": [
      "[[ 0.03344538 -0.02666334]\n",
      " [ 0.03344538 -0.02666334]\n",
      " [ 0.03344538 -0.02666334]\n",
      " [ 0.03344538 -0.02666334]\n",
      " [ 0.04695344 -0.01071633]\n",
      " [ 0.01102561 -0.03453939]\n",
      " [ 0.01448913  0.0473124 ]\n",
      " [-0.00386601 -0.03958908]]\n"
     ]
    }
   ],
   "source": [
    "print(model.predict(embedded_docs)[0])"
   ]
  },
  {
   "cell_type": "code",
   "execution_count": 50,
   "id": "5eb1efc4",
   "metadata": {},
   "outputs": [
    {
     "data": {
      "text/plain": [
       "6"
      ]
     },
     "execution_count": 50,
     "metadata": {},
     "output_type": "execute_result"
    }
   ],
   "source": [
    "# We can find seq_no of any word using this dictionary\n",
    "unique_word_dict.get('boy')"
   ]
  },
  {
   "cell_type": "code",
   "execution_count": 51,
   "id": "bcdab5f4",
   "metadata": {},
   "outputs": [
    {
     "data": {
      "text/plain": [
       "array([-0.04060618, -0.04176734], dtype=float32)"
      ]
     },
     "execution_count": 51,
     "metadata": {},
     "output_type": "execute_result"
    }
   ],
   "source": [
    "# Using seq no of a word we can find weights assigned to that word\n",
    "weights[unique_word_dict.get('boy')]"
   ]
  },
  {
   "cell_type": "code",
   "execution_count": 52,
   "id": "a204e6b9",
   "metadata": {},
   "outputs": [
    {
     "data": {
      "text/plain": [
       "-0.041186757"
      ]
     },
     "execution_count": 52,
     "metadata": {},
     "output_type": "execute_result"
    }
   ],
   "source": [
    "np.mean(weights[unique_word_dict.get('boy')])"
   ]
  },
  {
   "cell_type": "raw",
   "id": "62073cab",
   "metadata": {},
   "source": [
    "Averaging out the word weights\n",
    "Word embedding will create multi-dim value for every word\n",
    "\n",
    "So, averaging will enable every word to have a single value\n",
    "\n",
    "This method is used to convert word embedding data in to a 2D matrix format than a 3D matrix"
   ]
  },
  {
   "cell_type": "code",
   "execution_count": 53,
   "id": "9318a58c",
   "metadata": {},
   "outputs": [
    {
     "data": {
      "text/plain": [
       "(8, 8, 2)"
      ]
     },
     "execution_count": 53,
     "metadata": {},
     "output_type": "execute_result"
    }
   ],
   "source": [
    "# Original 3D matrix generated after word embedding\n",
    "model.predict(embedded_docs).shape"
   ]
  },
  {
   "cell_type": "code",
   "execution_count": 59,
   "id": "4a792113",
   "metadata": {},
   "outputs": [
    {
     "data": {
      "text/plain": [
       "(8, 8)"
      ]
     },
     "execution_count": 59,
     "metadata": {},
     "output_type": "execute_result"
    }
   ],
   "source": [
    "np.mean(model.predict(embedded_docs),axis=2).shape"
   ]
  },
  {
   "cell_type": "code",
   "execution_count": 63,
   "id": "6c4d83fe",
   "metadata": {},
   "outputs": [
    {
     "data": {
      "text/plain": [
       "array([[ 0.00339102,  0.00339102,  0.00339102,  0.00339102,  0.01811856,\n",
       "         0.00351051,  0.03090077,  0.01597269],\n",
       "       [ 0.00339102,  0.00339102,  0.00339102,  0.00339102,  0.01811856,\n",
       "         0.00351051,  0.03090077, -0.01745065],\n",
       "       [ 0.00339102,  0.00339102,  0.00339102,  0.00339102,  0.01811856,\n",
       "        -0.01175689,  0.03090077, -0.02172755],\n",
       "       [ 0.00339102,  0.00339102,  0.00339102,  0.00143652, -0.00838634,\n",
       "        -0.03416648, -0.01571127,  0.00081998],\n",
       "       [ 0.00339102,  0.00339102,  0.00339102,  0.00143652, -0.00838634,\n",
       "        -0.03416648, -0.01571127,  0.00579567],\n",
       "       [ 0.00339102,  0.00339102,  0.00339102, -0.00542249,  0.01811856,\n",
       "         0.00549808,  0.03090077,  0.02226282],\n",
       "       [ 0.00339102,  0.00339102,  0.00339102,  0.00339102,  0.00176935,\n",
       "         0.0078215 , -0.00838634, -0.01571127],\n",
       "       [-0.01381762,  0.02226282,  0.00549808, -0.00374818,  0.00592889,\n",
       "        -0.00401533,  0.0346232 , -0.00871381]], dtype=float32)"
      ]
     },
     "execution_count": 63,
     "metadata": {},
     "output_type": "execute_result"
    }
   ],
   "source": [
    "np.mean(model.predict(embedded_docs),axis=2)"
   ]
  },
  {
   "cell_type": "code",
   "execution_count": null,
   "id": "241682d4",
   "metadata": {},
   "outputs": [],
   "source": [
    "# create mapping of word and its weights"
   ]
  },
  {
   "cell_type": "code",
   "execution_count": 69,
   "id": "6bec52fb",
   "metadata": {},
   "outputs": [],
   "source": [
    "weights = model.get_weights()[0]\n",
    "# Creating a dictionary to store the embeddings in. The key is \n",
    "#a unique word and the value is the numeric vector\n",
    "embedding_dict = {}\n",
    "for word in all_words:\n",
    "    embedding_dict.update({word : weights[unique_word_dict.get(word)]})\n",
    "    "
   ]
  },
  {
   "cell_type": "code",
   "execution_count": 70,
   "id": "033ab504",
   "metadata": {},
   "outputs": [
    {
     "data": {
      "image/png": "[encoded data removed]",
      "text/plain": [
       "<Figure size 720x720 with 1 Axes>"
      ]
     },
     "metadata": {
      "needs_background": "light"
     },
     "output_type": "display_data"
    }
   ],
   "source": [
    "import matplotlib.pyplot as plt\n",
    "plt.figure(figsize=(10,10))\n",
    "for word in list (unique_word_dict.keys()):\n",
    "    X = embedding_dict.get(word)\n",
    "    plt.scatter(X[0],X[1])\n",
    "    plt.annotate(word, (X[0],X[1]))\n",
    "    "
   ]
  },
  {
   "cell_type": "code",
   "execution_count": null,
   "id": "049c0108",
   "metadata": {},
   "outputs": [],
   "source": []
  },
  {
   "cell_type": "code",
   "execution_count": null,
   "id": "0d7d0f84",
   "metadata": {},
   "outputs": [],
   "source": []
  },
  {
   "cell_type": "code",
   "execution_count": null,
   "id": "43aab193",
   "metadata": {},
   "outputs": [],
   "source": []
  },
  {
   "cell_type": "code",
   "execution_count": null,
   "id": "6659037c",
   "metadata": {},
   "outputs": [],
   "source": []
  }
 ],
 "metadata": {
  "kernelspec": {
   "display_name": "Python 3",
   "language": "python",
   "name": "python3"
  },
  "language_info": {
   "codemirror_mode": {
    "name": "ipython",
    "version": 3
   },
   "file_extension": ".py",
   "mimetype": "text/x-python",
   "name": "python",
   "nbconvert_exporter": "python",
   "pygments_lexer": "ipython3",
   "version": "3.8.10"
  }
 },
 "nbformat": 4,
 "nbformat_minor": 5
}
